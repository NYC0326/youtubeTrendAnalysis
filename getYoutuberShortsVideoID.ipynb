{
 "cells": [
  {
   "cell_type": "code",
   "execution_count": null,
   "metadata": {},
   "outputs": [],
   "source": [
    "from googleapiclient.discovery import build\n",
    "\n",
    "# Replace with your own API key\n",
    "api_key = 'YOUR_API_KEY'\n",
    "channel_id = 'YOUR_CHANNEL_ID'\n",
    "\n",
    "# Build the YouTube service\n",
    "youtube = build('youtube', 'v3', developerKey=api_key)\n",
    "\n",
    "# Function to get shorts video IDs from a channel\n",
    "def get_shorts_video_ids(channel_id):\n",
    "    shorts_video_ids = []\n",
    "    next_page_token = None\n",
    "\n",
    "    while True:\n",
    "        # Request to get the uploads playlist ID\n",
    "        request = youtube.channels().list(\n",
    "            part='contentDetails',\n",
    "            id=channel_id\n",
    "        )\n",
    "        response = request.execute()\n",
    "        uploads_playlist_id = response['items'][0]['contentDetails']['relatedPlaylists']['uploads']\n",
    "\n",
    "        # Request to get videos from the uploads playlist\n",
    "        playlist_request = youtube.playlistItems().list(\n",
    "            part='snippet',\n",
    "            playlistId=uploads_playlist_id,\n",
    "            maxResults=50,\n",
    "            pageToken=next_page_token\n",
    "        )\n",
    "        playlist_response = playlist_request.execute()\n",
    "\n",
    "        for item in playlist_response['items']:\n",
    "            video_id = item['snippet']['resourceId']['videoId']\n",
    "            video_title = item['snippet']['title']\n",
    "            # Check if the video title contains \"Shorts\"\n",
    "            if 'shorts' in video_title.lower():\n",
    "                shorts_video_ids.append(video_id)\n",
    "\n",
    "        next_page_token = playlist_response.get('nextPageToken')\n",
    "        if not next_page_token:\n",
    "            break\n",
    "\n",
    "    return shorts_video_ids\n",
    "\n",
    "# Get the shorts video IDs\n",
    "shorts_video_ids = get_shorts_video_ids(channel_id)\n",
    "print(shorts_video_ids)"
   ]
  }
 ],
 "metadata": {
  "kernelspec": {
   "display_name": "youtubeDataTrendAnalysis",
   "language": "python",
   "name": "python3"
  },
  "language_info": {
   "name": "python",
   "version": "3.13.0"
  }
 },
 "nbformat": 4,
 "nbformat_minor": 2
}
